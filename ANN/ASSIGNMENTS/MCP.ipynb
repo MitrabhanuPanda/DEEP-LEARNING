{
 "cells": [
  {
   "cell_type": "code",
   "execution_count": 1,
   "id": "287a17e1",
   "metadata": {},
   "outputs": [],
   "source": [
    "import numpy as np"
   ]
  },
  {
   "cell_type": "code",
   "execution_count": 21,
   "id": "f6d2d1ac",
   "metadata": {},
   "outputs": [],
   "source": [
    "def mcp(dim):     # dim-->dimension (Initialize the no. of dimensions)\n",
    "    d=dim         # Store the no. of dimensions into \"d\".\n",
    "    \n",
    "    w=np.random.choice([1,1],(d))      # Initialize the weights..In MCP all the weights are equal.\n",
    "    \n",
    "    r=np.random.choice([0,1],(4,d))    # Initialize the value of all the dimension.\n",
    "    \n",
    "    e=r@w              # Dot Product the weights with dimensions.It will show the min & max Threshold value\n",
    "    \n",
    "    opr=input(\"Enter a logic operator(AND,OR): \")        # LOGIC OPERATORs\n",
    "    \n",
    "    print(\"WEIGHTS: \",w)  \n",
    "    print()\n",
    "    print(\"DIMENSION WITH (0,1): \",end=\"\\n\")\n",
    "    print(r)\n",
    "    print()\n",
    "    print(\"DOT PRODUCT VALUES: \",e)\n",
    "    print()\n",
    "\n",
    "    \n",
    "    if opr==\"AND\":\n",
    "        \n",
    "        t=max(e)\n",
    "        print(\"THERSOLD: \",t)\n",
    "        print()\n",
    "        print(\"Output: \")\n",
    "        print()\n",
    "        \n",
    "        for y in e:\n",
    "\n",
    "            if y>=t:\n",
    "                print(1) \n",
    "            else:\n",
    "                print(0)\n",
    "                \n",
    "    elif opr==\"OR\":\n",
    "        \n",
    "        t2=min(e)\n",
    "        print(\"THERSOLD: \",t2)\n",
    "        print()\n",
    "        print(\"Output: \")\n",
    "        print()\n",
    "        \n",
    "        for y2 in e:\n",
    "    \n",
    "            if y2>t2:\n",
    "                print(1) \n",
    "            else:\n",
    "                print(0)\n",
    "    else:\n",
    "        print(\"SOMETHING WRONG\")"
   ]
  },
  {
   "cell_type": "code",
   "execution_count": 23,
   "id": "cf852795",
   "metadata": {},
   "outputs": [
    {
     "name": "stdout",
     "output_type": "stream",
     "text": [
      "Enter a logic operator(AND,OR): AND\n",
      "WEIGHTS:  [1 1]\n",
      "\n",
      "DIMENSION WITH (0,1): \n",
      "[[1 0]\n",
      " [0 1]\n",
      " [1 1]\n",
      " [0 1]]\n",
      "\n",
      "DOT PRODUCT VALUES:  [1 1 2 1]\n",
      "\n",
      "THERSOLD:  2\n",
      "\n",
      "Output: \n",
      "\n",
      "0\n",
      "0\n",
      "1\n",
      "0\n"
     ]
    }
   ],
   "source": [
    "mcp(2)"
   ]
  },
  {
   "cell_type": "code",
   "execution_count": 24,
   "id": "f5104823",
   "metadata": {},
   "outputs": [
    {
     "name": "stdout",
     "output_type": "stream",
     "text": [
      "Enter a logic operator(AND,OR): OR\n",
      "WEIGHTS:  [1 1]\n",
      "\n",
      "DIMENSION WITH (0,1): \n",
      "[[0 0]\n",
      " [1 1]\n",
      " [0 1]\n",
      " [1 1]]\n",
      "\n",
      "DOT PRODUCT VALUES:  [0 2 1 2]\n",
      "\n",
      "THERSOLD:  0\n",
      "\n",
      "Output: \n",
      "\n",
      "0\n",
      "1\n",
      "1\n",
      "1\n"
     ]
    }
   ],
   "source": [
    "mcp(2)"
   ]
  },
  {
   "cell_type": "code",
   "execution_count": 28,
   "id": "a14888f1",
   "metadata": {},
   "outputs": [
    {
     "name": "stdout",
     "output_type": "stream",
     "text": [
      "Enter a logic operator(AND,OR): AND\n",
      "WEIGHTS:  [1 1 1]\n",
      "\n",
      "DIMENSION WITH (0,1): \n",
      "[[1 0 1]\n",
      " [1 1 0]\n",
      " [0 1 1]\n",
      " [1 0 0]]\n",
      "\n",
      "DOT PRODUCT VALUES:  [2 2 2 1]\n",
      "\n",
      "THERSOLD:  2\n",
      "\n",
      "Output: \n",
      "\n",
      "1\n",
      "1\n",
      "1\n",
      "0\n"
     ]
    }
   ],
   "source": [
    "mcp(3)"
   ]
  },
  {
   "cell_type": "code",
   "execution_count": 30,
   "id": "e1918c79",
   "metadata": {},
   "outputs": [
    {
     "name": "stdout",
     "output_type": "stream",
     "text": [
      "Enter a logic operator(AND,OR): OR\n",
      "WEIGHTS:  [1 1 1]\n",
      "\n",
      "DIMENSION WITH (0,1): \n",
      "[[1 1 1]\n",
      " [1 1 0]\n",
      " [1 0 0]\n",
      " [0 0 0]]\n",
      "\n",
      "DOT PRODUCT VALUES:  [3 2 1 0]\n",
      "\n",
      "THERSOLD:  0\n",
      "\n",
      "Output: \n",
      "\n",
      "1\n",
      "1\n",
      "1\n",
      "0\n"
     ]
    }
   ],
   "source": [
    "mcp(3)"
   ]
  },
  {
   "cell_type": "code",
   "execution_count": null,
   "id": "2aa0ae51",
   "metadata": {},
   "outputs": [],
   "source": []
  }
 ],
 "metadata": {
  "kernelspec": {
   "display_name": "Python 3 (ipykernel)",
   "language": "python",
   "name": "python3"
  },
  "language_info": {
   "codemirror_mode": {
    "name": "ipython",
    "version": 3
   },
   "file_extension": ".py",
   "mimetype": "text/x-python",
   "name": "python",
   "nbconvert_exporter": "python",
   "pygments_lexer": "ipython3",
   "version": "3.9.13"
  }
 },
 "nbformat": 4,
 "nbformat_minor": 5
}
